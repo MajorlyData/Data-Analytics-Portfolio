{
 "cells": [
  {
   "cell_type": "markdown",
   "id": "58e8e5dc",
   "metadata": {},
   "source": [
    "# IMDB Web Scraping - Top 250 Movies"
   ]
  },
  {
   "cell_type": "markdown",
   "id": "81aa6a02",
   "metadata": {},
   "source": [
    "### Import Libraries"
   ]
  },
  {
   "cell_type": "code",
   "execution_count": 2,
   "id": "cfdbc2b3",
   "metadata": {},
   "outputs": [],
   "source": [
    "from bs4 import BeautifulSoup\n",
    "import requests\n",
    "import csv"
   ]
  },
  {
   "cell_type": "markdown",
   "id": "dcb80086",
   "metadata": {},
   "source": [
    "### Create a new csv file and write header row"
   ]
  },
  {
   "cell_type": "code",
   "execution_count": null,
   "id": "fd251c63",
   "metadata": {},
   "outputs": [],
   "source": [
    "file = open(\"IMDB_Ratings.csv\", \"w\")\n",
    "\n",
    "writer = csv.writer(file)\n",
    "\n",
    "writer.writerow([\"Rank\", \"Name\", \"Year Released\", \"IMDB Rating\"])"
   ]
  },
  {
   "cell_type": "markdown",
   "id": "d6a05fea",
   "metadata": {},
   "source": [
    "### Get source of data from IMDB website"
   ]
  },
  {
   "cell_type": "code",
   "execution_count": null,
   "id": "643cbf4b",
   "metadata": {},
   "outputs": [],
   "source": [
    "source = requests.get('https://www.imdb.com/chart/top/')\n",
    "\n",
    "# raise_for_status() will throw an error if a problem occurs during fetching process\n",
    "source.raise_for_status()"
   ]
  },
  {
   "cell_type": "markdown",
   "id": "620c1e35",
   "metadata": {},
   "source": [
    "### Create a new soup from the html text using Python's html.parser"
   ]
  },
  {
   "cell_type": "code",
   "execution_count": null,
   "id": "4a297d30",
   "metadata": {},
   "outputs": [],
   "source": [
    "soup = BeautifulSoup(source.text, 'html.parser')"
   ]
  },
  {
   "cell_type": "markdown",
   "id": "e94933e6",
   "metadata": {},
   "source": [
    "### Create a movies list, containing all instances of the tbody tag where class = lister-list"
   ]
  },
  {
   "cell_type": "code",
   "execution_count": null,
   "id": "d16ba2b1",
   "metadata": {},
   "outputs": [],
   "source": [
    "movies = soup.find('tbody', class_ = \"lister-list\").find_all('tr')"
   ]
  },
  {
   "cell_type": "markdown",
   "id": "2326f55d",
   "metadata": {},
   "source": [
    "### Loop through movies list and save data to corresponding variables"
   ]
  },
  {
   "cell_type": "code",
   "execution_count": null,
   "id": "349f87e9",
   "metadata": {},
   "outputs": [],
   "source": [
    "for movie in movies:\n",
    "\n",
    "    name = movie.find('td', class_ = \"titleColumn\").a.text\n",
    "\n",
    "    rank = movie.find('td', class_ = \"titleColumn\").get_text(strip=True).split('.')[0]\n",
    "\n",
    "    year = movie.find('td', class_ = \"titleColumn\").span.text.strip('()')\n",
    "\n",
    "    rating = movie.find('td', class_ = \"ratingColumn imdbRating\").strong.text"
   ]
  },
  {
   "cell_type": "markdown",
   "id": "3e80db52",
   "metadata": {},
   "source": [
    "### Write each row of data (rank, name, year, rating) to the csv file"
   ]
  },
  {
   "cell_type": "code",
   "execution_count": null,
   "id": "5a9472c9",
   "metadata": {},
   "outputs": [],
   "source": [
    "    writer.writerow([rank, name, year, rating])"
   ]
  }
 ],
 "metadata": {
  "kernelspec": {
   "display_name": "Python 3 (ipykernel)",
   "language": "python",
   "name": "python3"
  },
  "language_info": {
   "codemirror_mode": {
    "name": "ipython",
    "version": 3
   },
   "file_extension": ".py",
   "mimetype": "text/x-python",
   "name": "python",
   "nbconvert_exporter": "python",
   "pygments_lexer": "ipython3",
   "version": "3.10.9"
  }
 },
 "nbformat": 4,
 "nbformat_minor": 5
}
